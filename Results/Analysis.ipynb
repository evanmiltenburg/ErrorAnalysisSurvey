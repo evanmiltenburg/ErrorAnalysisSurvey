{
 "cells": [
  {
   "cell_type": "code",
   "execution_count": 1,
   "id": "8f8fe095",
   "metadata": {},
   "outputs": [],
   "source": [
    "import pandas as pd\n",
    "from matplotlib import pyplot as plt\n",
    "import seaborn as sns\n",
    "import numpy as np\n",
    "\n",
    "import csv\n",
    "from collections import Counter"
   ]
  },
  {
   "cell_type": "code",
   "execution_count": 2,
   "id": "9c700a5b",
   "metadata": {},
   "outputs": [],
   "source": [
    "def distribution(records, question):\n",
    "    \"Get distribution of answers, for a given question.\"\n",
    "    c = Counter(record[question] for record in records)\n",
    "    total = sum(c.values())\n",
    "    empty = c['']\n",
    "    counts = {key: {\"number\": value, \n",
    "                    \"percentage\": (value/total) * 100, \n",
    "                    \"percentage_answered\": (value/(total-empty)) * 100} \n",
    "                for key, value in c.items()}\n",
    "    try:\n",
    "        del counts['']['percentage_answered']\n",
    "    except:\n",
    "        pass\n",
    "    return counts\n",
    "\n",
    "\n",
    "def get_questions(question, number):\n",
    "    \"Get questions for a range of questions in a grid.\"\n",
    "    texts = []\n",
    "    for i in range(1,number+1):\n",
    "        item = f'Q{question}_{i}'\n",
    "        text = questions[item]\n",
    "        text = text.split('-')[-1].strip()\n",
    "        texts.append(text)\n",
    "    return texts\n",
    "\n",
    "\n",
    "def get_texts(records, question):\n",
    "    \"Get answer texts.\"\n",
    "    texts = []\n",
    "    for record in records:\n",
    "        answer = record[question]\n",
    "        identifier = record['ResponseId']\n",
    "        if not answer == '':\n",
    "            texts.append([identifier, answer])\n",
    "    return texts\n",
    "\n",
    "\n",
    "def basic_stats(records, question):\n",
    "    \"Print basic statistics about the results.\"\n",
    "    counts = distribution(records, question)\n",
    "    for key, results in counts.items():\n",
    "        if not key == '':\n",
    "            print(f\"{key}: {results['number']} ({results['percentage_answered']:.2f}%)\")\n",
    "\n",
    "    \n",
    "def underscored(base, number, records):\n",
    "    \"Get answer distribution for all subquestions.\"\n",
    "    results = dict()\n",
    "    for i in range(1, number+1):\n",
    "        question = f\"Q{base}_{i}\"\n",
    "        results[question] = distribution(records, question)\n",
    "    return results\n",
    "\n",
    "\n",
    "def agreement(counts):\n",
    "    \"Select percentage answered for all answers except the empty string.\"\n",
    "    results = dict()\n",
    "    for answer in ['Strongly disagree', 'Somewhat disagree', 'Neither agree nor disagree', 'Somewhat agree', 'Strongly agree']:\n",
    "        try:\n",
    "            results[answer] = counts[answer]['percentage_answered']\n",
    "        except:\n",
    "            results[answer] = 0\n",
    "    return results\n",
    "\n",
    "\n",
    "# No longer needed:\n",
    "# def enumerate_ids(iterable):\n",
    "#     \"Enumerate iterable with zero-padded IDs.\"\n",
    "#     for i, element in enumerate(iterable):\n",
    "#         yield 'comment-' + str(i).zfill(3), element\n",
    "\n",
    "\n",
    "def write_texts(texts, filename):\n",
    "    \"Write texts from a list to a file.\"\n",
    "    with open('./texts/' + filename,'w') as f:\n",
    "        writer = csv.writer(f)\n",
    "        writer.writerow(['identifier', 'comment', 'code'])\n",
    "        writer.writerows([row + ['Original comment'] for row in texts])"
   ]
  },
  {
   "cell_type": "code",
   "execution_count": 3,
   "id": "4967c0c0",
   "metadata": {},
   "outputs": [
    {
     "name": "stderr",
     "output_type": "stream",
     "text": [
      "/Users/emiel/opt/anaconda3/lib/python3.8/site-packages/openpyxl/styles/stylesheet.py:221: UserWarning: Workbook contains no default style, apply openpyxl's default\n",
      "  warn(\"Workbook contains no default style, apply openpyxl's default\")\n"
     ]
    }
   ],
   "source": [
    "df = pd.read_excel(\"[Distributed] Perceptions of Error Analysis_February 28, 2022_03.47.xlsx\")\n",
    "df = df.fillna('')\n",
    "records = df.to_dict(\"records\")"
   ]
  },
  {
   "cell_type": "code",
   "execution_count": 4,
   "id": "3cf69cda",
   "metadata": {},
   "outputs": [
    {
     "name": "stdout",
     "output_type": "stream",
     "text": [
      "67\n"
     ]
    }
   ],
   "source": [
    "consented = [record for record in records if str(record['Q1 ']).startswith(\"Yes\")]\n",
    "\n",
    "print(len(consented))\n",
    "\n",
    "# For subgroup analysis:\n",
    "academia = [record for record in records if str(record['Q2'])=='Academia']\n",
    "industry = [record for record in records if str(record['Q2'])=='Industry']"
   ]
  },
  {
   "cell_type": "code",
   "execution_count": 5,
   "id": "28a9a9ce",
   "metadata": {},
   "outputs": [],
   "source": [
    "# If necessary, here are all questions:\n",
    "questions = records[0]"
   ]
  },
  {
   "cell_type": "code",
   "execution_count": 6,
   "id": "32d1ca66",
   "metadata": {},
   "outputs": [
    {
     "data": {
      "text/plain": [
       "{'StartDate': 'Start Date',\n",
       " 'EndDate': 'End Date',\n",
       " 'Status': 'Response Type',\n",
       " 'Progress': 'Progress',\n",
       " 'Duration (in seconds)': 'Duration (in seconds)',\n",
       " 'Finished': 'Finished',\n",
       " 'RecordedDate': 'Recorded Date',\n",
       " 'ResponseId': 'Response ID',\n",
       " 'DistributionChannel': 'Distribution Channel',\n",
       " 'UserLanguage': 'User Language',\n",
       " 'Q1 ': 'Informed consent\\n\\n \\n\\nThis is the consent form for our study about the status of error analysis in NLG. Full details about this study were provided on the previous page. If you want to read this information again, you can go back to the previous page. If anything is still unclear about this study, please contact: C.W.J.vanMiltenburg@tilburguniversity.edu\\n\\n \\n\\nConsent\\n\\nBy consenting, you indicate that you have read the description on the previous page, that you are voluntarily taking part in this study, and that you allow for your data to be processed. This means that:\\n\\n\\n\\tYou agree to your responses being anonymously recorded.\\n\\tYour answers will be used to study the status of error analysis in NLG, and may be used in future publications pertaining to this topic.\\n\\tThe data will be shared with our research team, with both local (hard drive) and online (protected cloud drive) backups. This data will be stored indefinitely, and made public upon completion of our research. Note again that none of your answers can be traced back to you.\\n\\tYou acknowledge that there is no financial compensation for taking part in this study.\\n\\n\\n \\n\\nNote that you may still withdraw your consent after completing this form, without any negative consequences. We will delete all incomplete forms from our study.\\n\\n \\n\\nDo you consent?\\n\\nDo you agree to take part in this study? If you consent, please indicate this below by clicking “Yes”.  If you click “No”, you will be directed to the end of this questionnaire. You may also close this page to stop participating in this study.',\n",
       " 'Q2': 'Are you in academia or in industry? (If you have a dual affiliation, please respond with your dominant affiliation in mind.)',\n",
       " 'Q3': 'How many years have you been working in NLG?',\n",
       " 'Q4': 'Do you remember reading any NLG papers that include an error analysis?',\n",
       " 'Q5': 'Did you find the error analyses to be useful?',\n",
       " 'Q6': \"What did you find useful about the error analyses you've seen?\",\n",
       " 'Q7': \"Why didn't you find the error analyses to be useful?\",\n",
       " 'Q8': \"Is it surprising to you that you haven't seen any published error analyses? - Selected Choice\",\n",
       " 'Q8_1_TEXT': \"Is it surprising to you that you haven't seen any published error analyses? - Yes, because: - Text\",\n",
       " 'Q8_2_TEXT': \"Is it surprising to you that you haven't seen any published error analyses? - No, because: - Text\",\n",
       " 'Q9': 'Have you ever carried out an error analysis?',\n",
       " 'Q10': 'What did you find challenging or difficult about carrying out an error analysis?',\n",
       " 'Q11': 'Did you feel like there were enough resources/reference material for you to carry out an error analysis?',\n",
       " 'Q28': \"Do you think you'll carry out an error analysis again in the future?\",\n",
       " 'Q29': 'Could you explain your answer to the previous question?',\n",
       " 'Q12': 'Have you ever considered carrying out an error analysis?',\n",
       " 'Q13': \"What is the reason you haven't carried out an error analysis?\",\n",
       " 'Q14': 'Are you willing to carry out an error analysis?',\n",
       " 'Q15': 'For what kinds of papers do you think error analyses may be useful?',\n",
       " 'Q16_1': 'I would be more likely to carry out an analysis in a conference/journal paper if… - There was a higher page limit.',\n",
       " 'Q16_2': 'I would be more likely to carry out an analysis in a conference/journal paper if… - There would be an existing error taxonomy that I could use.',\n",
       " 'Q16_3': 'I would be more likely to carry out an analysis in a conference/journal paper if… - There would be dedicated annotation tools for error analysis that I could use.',\n",
       " 'Q16_4': 'I would be more likely to carry out an analysis in a conference/journal paper if… - There would be a crowdsourcing template for carrying out error analyses.',\n",
       " 'Q16_5': 'I would be more likely to carry out an analysis in a conference/journal paper if… - Reviewers paid more attention to error analyses.',\n",
       " 'Q16_6': 'I would be more likely to carry out an analysis in a conference/journal paper if… - There were an available pool of annotators or crowd workers',\n",
       " 'Q16_7': 'I would be more likely to carry out an analysis in a conference/journal paper if… - I had more time.',\n",
       " 'Q16_8': 'I would be more likely to carry out an analysis in a conference/journal paper if… - I had more money.',\n",
       " 'Q16_9': 'I would be more likely to carry out an analysis in a conference/journal paper if… - I had more collaborators.',\n",
       " 'Q17': 'Are there any other barriers that prevent you from carrying out an error analysis?',\n",
       " 'Q18_1': 'Please indicate whether you agree or disagree with the following statements - There should be more error analyses in the NLG literature',\n",
       " 'Q18_2': 'Please indicate whether you agree or disagree with the following statements - Error analyses are a valuable part of a paper.',\n",
       " 'Q18_3': 'Please indicate whether you agree or disagree with the following statements - Carrying out an error analysis is enjoyable.',\n",
       " 'Q18_4': 'Please indicate whether you agree or disagree with the following statements - Carrying out an error analysis is boring/tedious.',\n",
       " 'Q18_5': 'Please indicate whether you agree or disagree with the following statements - Error analyses are necessary to fully evaluate the performance of an NLG system.',\n",
       " 'Q18_6': 'Please indicate whether you agree or disagree with the following statements - Knowing what errors a system makes is helpful for future research.',\n",
       " 'Q18_7': 'Please indicate whether you agree or disagree with the following statements - Knowing what errors a system makes is helpful for practitioners/NLG in industry.',\n",
       " 'Q18_8': 'Please indicate whether you agree or disagree with the following statements - If you publish at a conference, and you present an NLG system as one of your main contributions, you should include an error analysis.',\n",
       " 'Q18_9': 'Please indicate whether you agree or disagree with the following statements - If you publish in a journal, and you present an NLG system as one of your main contributions, you should include an error analysis.',\n",
       " 'Q19': 'I am … likely to include an error analysis in a journal article than/as I would be for a conference publication.',\n",
       " 'Q27': 'Please explain your answer to the previous question:',\n",
       " 'Q20': 'Are there currently enough resources to support error analysis? - Selected Choice',\n",
       " 'Q20_2_TEXT': 'Are there currently enough resources to support error analysis? - No, I am still missing: - Text',\n",
       " 'Q21': 'Besides resources, are there any other factors that would make it more likely for you to carry out an error analysis?',\n",
       " 'Q23': 'What else would you recommend that authors should include in an error analysis?',\n",
       " 'Q24': 'This is the final question. Is there anything you would like to add or comment on?'}"
      ]
     },
     "execution_count": 6,
     "metadata": {},
     "output_type": "execute_result"
    }
   ],
   "source": [
    "questions"
   ]
  },
  {
   "cell_type": "code",
   "execution_count": 7,
   "id": "e3539ec5",
   "metadata": {},
   "outputs": [
    {
     "data": {
      "text/plain": [
       "'\\nTODO:\\n- Subgroup analysis: academia vs industry\\n- Heatmap tables\\n'"
      ]
     },
     "execution_count": 7,
     "metadata": {},
     "output_type": "execute_result"
    }
   ],
   "source": [
    "\"\"\"\n",
    "TODO:\n",
    "- Subgroup analysis: academia vs industry\n",
    "- Heatmap tables\n",
    "\"\"\""
   ]
  },
  {
   "cell_type": "markdown",
   "id": "8a52cf87",
   "metadata": {},
   "source": [
    "# Demographics"
   ]
  },
  {
   "cell_type": "code",
   "execution_count": 8,
   "id": "28f465fd",
   "metadata": {},
   "outputs": [
    {
     "name": "stdout",
     "output_type": "stream",
     "text": [
      "Academia: 51 (85.00%)\n",
      "Industry: 8 (13.33%)\n",
      "Other: 1 (1.67%)\n"
     ]
    }
   ],
   "source": [
    "# Where do people come from?\n",
    "basic_stats(consented, \"Q2\")"
   ]
  },
  {
   "cell_type": "code",
   "execution_count": 9,
   "id": "ec484112",
   "metadata": {},
   "outputs": [
    {
     "name": "stdout",
     "output_type": "stream",
     "text": [
      "6-10 years: 5 (8.47%)\n",
      "Less than 2 years: 13 (22.03%)\n",
      "2-5 years: 23 (38.98%)\n",
      "11 or more years: 13 (22.03%)\n",
      "I don't work in NLG: 5 (8.47%)\n"
     ]
    }
   ],
   "source": [
    "# Time spent working in NLG:\n",
    "basic_stats(consented, \"Q3\")"
   ]
  },
  {
   "cell_type": "code",
   "execution_count": 10,
   "id": "2717d63e",
   "metadata": {},
   "outputs": [
    {
     "name": "stdout",
     "output_type": "stream",
     "text": [
      "Yes: 33 (67.35%)\n",
      "No: 16 (32.65%)\n"
     ]
    }
   ],
   "source": [
    "# Read an error analysis:\n",
    "basic_stats(consented, \"Q4\")"
   ]
  },
  {
   "cell_type": "code",
   "execution_count": 11,
   "id": "6d8f0e83",
   "metadata": {},
   "outputs": [
    {
     "name": "stdout",
     "output_type": "stream",
     "text": [
      "Yes, because:: 3 (42.86%)\n",
      "No, because:: 4 (57.14%)\n"
     ]
    }
   ],
   "source": [
    "# Is it surprising that you haven't read an error analysis?\n",
    "basic_stats(consented, \"Q8\")"
   ]
  },
  {
   "cell_type": "code",
   "execution_count": 12,
   "id": "6939c21b",
   "metadata": {},
   "outputs": [
    {
     "name": "stdout",
     "output_type": "stream",
     "text": [
      "R_2viGZF9YUjaTxAZ using NLG systems every day, I know that however good the output is, it still makes small mistakes that need correcting such as confusing \"me\" and \"you\" roles.\n",
      "----\n",
      "R_3PUctIwcmDJt5t4 Without an understanding of errors, especially regarding what the most frequent errors involve, it is quite hard to correctly develop a system. It may end up being just blind hyperparameter optimisation (for NN ones)\n",
      "----\n",
      "R_2c0i363Fh3IQN3w I haven't read plenty of literature as NLG is only part of my research\n",
      "----\n"
     ]
    }
   ],
   "source": [
    "# Why is it surprising?:\n",
    "texts = get_texts(consented, 'Q8_1_TEXT')\n",
    "write_texts(texts, \"surprising_because.csv\")\n",
    "\n",
    "for ident, text in texts:\n",
    "    print(ident, text)\n",
    "    print('----')"
   ]
  },
  {
   "cell_type": "code",
   "execution_count": 13,
   "id": "c256cbbe",
   "metadata": {},
   "outputs": [
    {
     "name": "stdout",
     "output_type": "stream",
     "text": [
      "R_3CClKJCQVTV5fKQ Page limit is often too less to report a detailed error analysis. Also manually annotation of errors is very time consuming, even if the training data is already manually annotated and the test data manually evaluated. \n",
      "----\n",
      "R_2at4iBHFbZ9qXF9 it is time-consuming and tedious. Furthermore, it seems there is disagreement about standards, so that results cannot be compared sensibly.\n",
      "----\n"
     ]
    }
   ],
   "source": [
    "# Why is it not surprising?:\n",
    "texts = get_texts(consented, 'Q8_2_TEXT')\n",
    "write_texts(texts, \"not_surprising_because.csv\")\n",
    "\n",
    "for ident, text in texts:\n",
    "    print(ident, text)\n",
    "    print('----')"
   ]
  },
  {
   "cell_type": "code",
   "execution_count": 14,
   "id": "dbcab7b1",
   "metadata": {},
   "outputs": [
    {
     "name": "stdout",
     "output_type": "stream",
     "text": [
      "Yes: 25 (67.57%)\n",
      "No: 12 (32.43%)\n"
     ]
    }
   ],
   "source": [
    "# Carried out an error analysis:\n",
    "basic_stats(consented, 'Q9')"
   ]
  },
  {
   "cell_type": "code",
   "execution_count": 15,
   "id": "dbe6e22d",
   "metadata": {},
   "outputs": [
    {
     "name": "stdout",
     "output_type": "stream",
     "text": [
      "Probably yes: 7 (30.43%)\n",
      "Definitely yes: 15 (65.22%)\n",
      "Probably not: 1 (4.35%)\n"
     ]
    }
   ],
   "source": [
    "# Willing to carry one out again (only people who answered 'yes'):\n",
    "basic_stats(consented, 'Q28')"
   ]
  },
  {
   "cell_type": "code",
   "execution_count": 16,
   "id": "295d278a",
   "metadata": {},
   "outputs": [
    {
     "name": "stdout",
     "output_type": "stream",
     "text": [
      "R_2uIYMUOPADUs0Gp Not on a formal and structured level as for now.\n",
      "----\n",
      "R_3EVTcFVWkcADmAn It can improve the results and quality of generations.\n",
      "----\n",
      "R_1Fb4cMbBLCr1Mps Need to measure accuracy of generated texts\n",
      "----\n",
      "R_2Bx0flTszYdxDPA They are too useful to not do them\n",
      "----\n",
      "R_tK6Arub4LFxhMTT Sometimes it is needed...\n",
      "----\n",
      "R_1OxiIuva6OIySjr I think it's useful\n",
      "----\n",
      "R_9FWWZPFa03RKtDb It is useful\n",
      "----\n",
      "R_8AMlQcW7cB0S0lH I think its important to manually inspect the data from a computational linguistic perspective and it can provide valuable insights into improving inputs perhaps or neural architectures in order to guarantee more semantically adequate   production systems.\n",
      "----\n",
      "R_3PmNb56WDtzFl00 Essential part of evaluation!\n",
      "----\n",
      "R_1msf0KMkf86xvU7 I do believe in the importance of error analysis, so I'll make sure to include them as much as possible. However, when working with collaborators, not everyone sees its importance and is willing to invest time (and resources) on it.\n",
      "----\n",
      "R_1oGS3sNlc9Pzbhu Scores from automatic evaluation metrics cannot reliably detect or quantify all types of errors in NLG, so manual error analysis is still probably the best kind of evaluation.\n",
      "----\n",
      "R_3kgFfd7vL38wXiE Why not :)\n",
      "----\n",
      "R_3dS2PTlM6FW2INE I feel like the experience with the error analysis I have carried out helps me to outline better categories in the future.\n",
      "----\n",
      "R_2wmLQttiaGr9OkJ ?\n",
      "----\n",
      "R_10rcJTKXKKERNbF I think carring out error analyses is a way to improve the systems\n",
      "----\n",
      "R_u3vQ66FYA58WEnL Error analysis is crucial for many uses of NLG systems, especially for systems intended to produce outputs for human audience.\n",
      "----\n",
      "R_12tjBK7tLWimKGc Not necessarily for published research, but doing so for my team is a fairly regular part of my industry job\n",
      "----\n",
      "R_3rMofNwuc818Ldq I cannot imagine not having a look at the outputs to see what went wrong.\n",
      "----\n",
      "R_12RQqpVGE2qYoq3 Alas, I'm too old to do so now, as other projects are more important (writing a book, for example)\n",
      "----\n"
     ]
    }
   ],
   "source": [
    "# Explanation for previous question\n",
    "texts = get_texts(consented, 'Q29')\n",
    "write_texts(texts, \"carry_out_again_because.csv\")\n",
    "\n",
    "for ident, text in texts:\n",
    "    print(ident, text)\n",
    "    print('----')"
   ]
  },
  {
   "cell_type": "code",
   "execution_count": 17,
   "id": "ce605668",
   "metadata": {},
   "outputs": [
    {
     "name": "stdout",
     "output_type": "stream",
     "text": [
      "Never: 4 (36.36%)\n",
      "Once or twice: 2 (18.18%)\n",
      "I'm planning to carry out an error analysis in the future: 4 (36.36%)\n",
      "Regularly: 1 (9.09%)\n"
     ]
    }
   ],
   "source": [
    "# Considered carrying one out (only people who answered 'no'):\n",
    "basic_stats(consented, 'Q12')"
   ]
  },
  {
   "cell_type": "code",
   "execution_count": 18,
   "id": "44fd61e6",
   "metadata": {},
   "outputs": [
    {
     "name": "stdout",
     "output_type": "stream",
     "text": [
      "Probably yes: 3 (25.00%)\n",
      "Definitely yes: 4 (33.33%)\n",
      "Might or might not: 4 (33.33%)\n",
      "Probably not: 1 (8.33%)\n"
     ]
    }
   ],
   "source": [
    "# Willing to carry one out (only people who answered 'no'):\n",
    "basic_stats(consented, 'Q14')"
   ]
  },
  {
   "cell_type": "code",
   "execution_count": 19,
   "id": "de4483a4",
   "metadata": {},
   "outputs": [
    {
     "name": "stdout",
     "output_type": "stream",
     "text": [
      "R_2viGZF9YUjaTxAZ Whilst I do correct errors, I've never really considered carrying out an error analysis.\n",
      "----\n",
      "R_3CClKJCQVTV5fKQ I didn't know of this option, I thought error description is enough. \n",
      "----\n",
      "R_3PUctIwcmDJt5t4 I work in rule-based NLG, hence unexpected errors in output are unlikely\n",
      "----\n",
      "R_1DAuvy72fx3Y9px My work was on errors in people not text\n",
      "----\n",
      "R_cIRoJzsDgiLpSWB My studies are taking much of my time\n",
      "----\n",
      "R_1Owpizm5kuD60On Hasnt been a part of my research problem, but is becoming increasingly relevant \n",
      "----\n",
      "R_3Oprj30Ag4eTLZO The NLG systems I worked on were rule based, and before we evaluated them we made sure that there were no errors.  We carried out task-based evaluations comparing different strategies, and sometimes asked users to judge fluency etc but there were no generation errors to analyse.\n",
      "----\n",
      "R_2at4iBHFbZ9qXF9 see above (tedious, lack of standards)\n",
      "----\n",
      "R_2ZESZwXOU9XYLO6 I used to work in NLG and don't any more (sorry there was no button for that at the beginning). I worked on rule-based system and there was no error ananlysis of the NLG because it didn't make any errors, we made sure the rules worked correctly before the NLG was used as part of a bigger system.  There may have been error analysis of e.g. the speech recognition errors which led to the wrong response being generated, but not of the NLG itself.\n",
      "----\n",
      "R_2c0i363Fh3IQN3w I have not done a formal study for the NLG components of my project so far.\n",
      "----\n"
     ]
    }
   ],
   "source": [
    "# Reasons for not doing it:\n",
    "texts = get_texts(consented, 'Q13')\n",
    "write_texts(texts, \"reason_for_not_carrying_out.csv\")\n",
    "\n",
    "for ident, text in texts:\n",
    "    print(ident, text)\n",
    "    print('----')"
   ]
  },
  {
   "cell_type": "markdown",
   "id": "6d153991",
   "metadata": {},
   "source": [
    "# Usefulness of error analyses"
   ]
  },
  {
   "cell_type": "code",
   "execution_count": 20,
   "id": "a059f991",
   "metadata": {},
   "outputs": [
    {
     "name": "stdout",
     "output_type": "stream",
     "text": [
      "Moderately useful: 11 (35.48%)\n",
      "Slightly useful: 2 (6.45%)\n",
      "Very useful: 7 (22.58%)\n",
      "Extremely useful: 11 (35.48%)\n"
     ]
    }
   ],
   "source": [
    "# Found useful:\n",
    "basic_stats(consented, 'Q5')"
   ]
  },
  {
   "cell_type": "code",
   "execution_count": 21,
   "id": "d8d5be64",
   "metadata": {},
   "outputs": [
    {
     "name": "stdout",
     "output_type": "stream",
     "text": [
      "R_2uIYMUOPADUs0Gp General attention to the topic\n",
      "----\n",
      "R_1Fb4cMbBLCr1Mps general taxonomy gives idea of challenging aspects\n",
      "----\n",
      "R_1zRNqaef0umL2QF Qualitative analysis plus examples more informative than numeric scores for understanding where improvements are still needed\n",
      "----\n",
      "R_2Bx0flTszYdxDPA They help ground the limitations of the systems And create directions for future work\n",
      "----\n",
      "R_tK6Arub4LFxhMTT Allows to assess whether things you belive could be improved are indeed the things that should be\n",
      "----\n",
      "R_1OxiIuva6OIySjr They help understand the limitation of the proposed method. \n",
      "----\n",
      "R_9FWWZPFa03RKtDb It gives a complementary picture of standard metrics.\n",
      "----\n",
      "R_3CClKJCQVTV5fKQ Clear view on data and not only a cherry picking error description. The different categories are helpful to identify problems of the NLG system. NLG is often evaluated only by automatic metrics which are not perfect and do not take all issues into account, such a error analysis can help to identify errors and not only trying to reach the best scores. The NLG systems get more and more black boxes which we don't know what they are doing so a manual analysis is helpful for identifying problems which we had overlooked focusing on automatic metrics. \n",
      "----\n",
      "R_3PUctIwcmDJt5t4 Diversification of the errors, making the researcher able to fine-tune a system based on them.\n",
      "----\n",
      "R_8AMlQcW7cB0S0lH It provided useful insights into the type of errors produced in the output which are not evident in string based or corpus based metrics - BLEU, BLEURT etc\n",
      "----\n",
      "R_1DAuvy72fx3Y9px It shows the kinds of failures the system has, and points to where problems in the (often Black Box) System may lie. \n",
      "\n",
      "It is also a good sign that the whole analysis of results has considered all results. \n",
      "----\n",
      "R_3PmNb56WDtzFl00 Qualitative insights about what doesnt work.    Which is useful for planning future research, and also for deciding whether to use a model/algorithm in a project (since some types of errors are much more concerning than others)\n",
      "----\n",
      "R_1msf0KMkf86xvU7 They provide an idea of where the models are actually failing. This helps understand if the proposed approach is tackling the problem it intends to solve (or improve on). It also gives ideas for future work.\n",
      "----\n",
      "R_1oGS3sNlc9Pzbhu Error analyses can show the areas where a system struggles to generate the correct output which can be accuracy, coherence, fluency, etc.\n",
      "----\n",
      "R_cIRoJzsDgiLpSWB The way that error is treated in language due to the difficulty of  the natural language processing methods and its variety across the different levels of processes\n",
      "----\n",
      "R_1Owpizm5kuD60On Awareness of the kinds of biases these system exhibit when trying to generate something meaningful and at the same point also showcasing what needs to be done to further the improvement of these models \n",
      "----\n",
      "R_3dS2PTlM6FW2INE Providing extra depth about the state of their system. That is, providing more detailed information about the strenghts and challenges regarding the system that you would not be able to obtain if you would just report average fluency, BLEU, etc. Furthermore, it is also more \"objective\" than the average qualitative analysis that we often see, that generally just reports overall first impressions of the author.\n",
      "----\n",
      "R_u3vQ66FYA58WEnL When NLG error analysis is conducted manually (i.e. by humans), it provides valuable information about the quality of NLG, and also can tell us where the problems are.\n",
      "----\n",
      "R_2c0i363Fh3IQN3w It specifies error providing categories for them.\n",
      "----\n",
      "R_3rMofNwuc818Ldq It clearly shows what are the system's flaws and strong sides, and gives explicit hints with respect to how the system can be improved.\n",
      "----\n",
      "R_0fDpb4gKFzYr9PH understanding the weaknesses of the system\n",
      "----\n",
      "R_12RQqpVGE2qYoq3 I quite agree with Emiel's conclusions in his paper: \"Underreporting of errors in NLG output\". Most error analyses I have seen are in psycholinguistics (my background), and they allowed 'us' to develop an architecture or pipeline, figuring out to some extent the time course of language production. Actually, if I were allowed to take 3 books with me on an island, then I'd choose Levelt's 'bible' Speaking, and one of the various books devoted to errors, as they contain in hidden form how things work, and why they don't. Errors are incredibly valuable clues, regardless the specific aspect of the process (choice of meaning, word access, synctatic processing, ...) or the task (reading, writing, speaking, misunderstanding/mishearing/misreading).\n",
      "----\n"
     ]
    }
   ],
   "source": [
    "# What was useful about the analyses?:\n",
    "texts = get_texts(consented, 'Q6')\n",
    "write_texts(texts, \"uses_of_error_analysis.csv\")\n",
    "\n",
    "for ident, text in texts:\n",
    "    print(ident, text)\n",
    "    print('----')"
   ]
  },
  {
   "cell_type": "code",
   "execution_count": 22,
   "id": "3ee8344f",
   "metadata": {},
   "outputs": [
    {
     "name": "stdout",
     "output_type": "stream",
     "text": [
      "R_2uIYMUOPADUs0Gp KPI standards\n",
      "----\n",
      "R_3EVTcFVWkcADmAn Dialogue systems, response generations\n",
      "----\n",
      "R_1Fb4cMbBLCr1Mps all NLG research. \n",
      "----\n",
      "R_1zRNqaef0umL2QF most NLG papers\n",
      "----\n",
      "R_2Bx0flTszYdxDPA All papers with an experimental component\n",
      "----\n",
      "R_tK6Arub4LFxhMTT Ones proposing improvements, especially if the improvements have a certain goal (e.g. changing syntax, did only the bottom line change? or something syntactic)\n",
      "Probably can think of other things\n",
      "----\n",
      "R_9FWWZPFa03RKtDb Any paper really, but I understand that it is not always feasible, due to time and economic constraints. But it should be expected to a higher extent than currently.\n",
      "----\n",
      "R_2viGZF9YUjaTxAZ I think an error analysis would be useful for any papers where an NLG system is generating text, and making mistakes.  I hadn't heard of error analysis before this survey, but have read a lot of NLG papers, none of which contained an error analysis.  Not doing so, seems at best a little dishonest.\n",
      "----\n",
      "R_3CClKJCQVTV5fKQ All NLG paper with a small amount of test data so that the manual error annotation is easy doable. For example, paper proposing a new NLG system for machine translation, text simplification, text summarization, question answering... \n",
      "----\n",
      "R_3PUctIwcmDJt5t4 E2E-NLG in particular, given the difficulties in debugging black-box models.\n",
      "----\n",
      "R_8AMlQcW7cB0S0lH System papers - papers which claim to improve on semantic adequacy/controllability for neural text generation systems i.e. pipeline neural architecture and controllable neural generation, better input representation and evaluation papers in general.\n",
      "----\n",
      "R_1DAuvy72fx3Y9px Any work on a system that outputs text\n",
      "----\n",
      "R_3PmNb56WDtzFl00 Any paper which evaluates a model, algorithm, or system should include an error analysis\n",
      "----\n",
      "R_1msf0KMkf86xvU7 Pretty much all papers that claim to be doing something better than others. For NLG, in particular, just showing that a model gets higher X score(s) does not help understand why that is the case. It serves better to the community to have an understanding of the real capabilities and limitations of the models. So, to better compare systems, an error analysis can help show where a particular system is \"doing better\" than the other, making a stronger case for using it (or not). \n",
      "----\n",
      "R_1oGS3sNlc9Pzbhu - Papers describing novel approaches/architectures to NLG: It would be useful to know whether a particular approach is prone to making mistakes related to fluency, accuracy, coherency, etc.\n",
      "- Papers comparing two or more NLG systems.\n",
      "----\n",
      "R_cIRoJzsDgiLpSWB Journal of Automated Reasoning\n",
      "Journal of Intelligent Systems\n",
      "Journal of Logic and Computation\n",
      "\n",
      "----\n",
      "R_3JhffzVm2xlXoiQ I think any NLG paper should conduct error analyses to help readers better understand the limitations and potential risk of current model as well as datasets.\n",
      "----\n",
      "R_1Owpizm5kuD60On Any paper which introduces a new NLG model should also talk about the pitfalls of generations or the things that the model gets stuck in since that provides an immediate reference to put things in perspective with. \n",
      "----\n",
      "R_3dS2PTlM6FW2INE Generally any paper that introduces a system in the NLG domain (even more broadly: NLP). Especially if you have limited time and resources for a quantitative human evaluation study, you can get interesting results with just a small amount of annotators.\n",
      "----\n",
      "R_2wmLQttiaGr9OkJ explainable AI and confidence analysis\n",
      "----\n",
      "R_2ZESZwXOU9XYLO6 For papers using neural generation models which can produce errors.\n",
      "----\n",
      "R_10rcJTKXKKERNbF most of them: new models, new systems...\n",
      "----\n",
      "R_u3vQ66FYA58WEnL I have to say that what is considered an error depends partially on the intended use of the NLG system. For systems that are intended to produce grammatical coherent text for human audiences, error analysis is necessary in order to get a good estimation of system quality. However, some systems might be intended to produce different output, for example poetry, or literary-style imitations, so criteria of errors may be different there. There might also be papers that focus on computational efficiency, and thus disregard quality of output, so those might avoid error analysis.  \n",
      "\n",
      "Some NLG papers use BLEU scores as indicators of NLG quality. This is very convenient as BLEU scores can be computed automatically against available human-sourced 'gold data'. But BLEU scores can be misleading and are not a good alternative to manual analysis of errors.  \n",
      "----\n",
      "R_2c0i363Fh3IQN3w All of them.\n",
      "----\n",
      "R_12tjBK7tLWimKGc Any paper that's presenting an NLG system, and many if not all that survey multiple NLG papers or analyze evaluation methodologies (e.g. if you're validating how well an automatic metric does, you might want to see how it responds to different types of errors)\n",
      "----\n",
      "R_3rMofNwuc818Ldq Basically any paper that presents and/or compares outputs of (an) NLG system(s). \n",
      "----\n",
      "R_12RQqpVGE2qYoq3 Concerning papers, the problem lies mostly with the politics of the people in charge of these papers. I think that error analysis should definitely be taken on board, and we should try to spend more time reflecting what can be expected from them given a specific task.\n",
      "----\n"
     ]
    }
   ],
   "source": [
    "# For what kinds of papers are error analyses useful?:\n",
    "texts = get_texts(consented, 'Q15')\n",
    "write_texts(texts, \"kinds_of_papers.csv\")\n",
    "\n",
    "for ident, text in texts:\n",
    "    print(ident, text)\n",
    "    print('----')"
   ]
  },
  {
   "cell_type": "code",
   "execution_count": 23,
   "id": "78bd68c5",
   "metadata": {},
   "outputs": [],
   "source": [
    "# Reasons for disappointment:\n",
    "texts = get_texts(consented, 'Q7')\n",
    "write_texts(texts, \"reasons_for_disappointment.csv\")\n",
    "\n",
    "for ident, text in texts:\n",
    "    print(ident, text)\n",
    "    print('----')"
   ]
  },
  {
   "cell_type": "markdown",
   "id": "8f87d387",
   "metadata": {},
   "source": [
    "# Barriers and enabling factors"
   ]
  },
  {
   "cell_type": "code",
   "execution_count": 24,
   "id": "612a8060",
   "metadata": {},
   "outputs": [
    {
     "name": "stdout",
     "output_type": "stream",
     "text": [
      "R_2uIYMUOPADUs0Gp Scale and resources\n",
      "----\n",
      "R_3EVTcFVWkcADmAn It's time consuming and some times to cover all types of errors is very hard.\n",
      "----\n",
      "R_1Fb4cMbBLCr1Mps benchmarked against what? time-consuming. necessity for IRR (but usually lack of willing qualified participants)\n",
      "----\n",
      "R_1zRNqaef0umL2QF Time pressure\n",
      "----\n",
      "R_2Bx0flTszYdxDPA They can be time consuming to get right because it means contextualising your numbers\n",
      "----\n",
      "R_tK6Arub4LFxhMTT Defining categories,\n",
      "Choosing amount of effort to invest and in what\n",
      "----\n",
      "R_1OxiIuva6OIySjr It's not cool, so some of the co-authors had a push back\n",
      "----\n",
      "R_9FWWZPFa03RKtDb It is hard to define clearly, especially in utput with poor quality, where the source of errors can be multiple. There is a lack of clearly described schemes, and the ones that exists are typically not well documented.\n",
      "----\n",
      "R_8AMlQcW7cB0S0lH The lack of clear methodology - type of errors.   Some appear random they pick a 100 and categorise the errors with not error schema.  Often the sampling may or may not be statistically significant and there is no attempt to justify the sample size\n",
      "----\n",
      "R_3PmNb56WDtzFl00 Inter-annotator agreement.  Ie, trying to define the error analysis well enough that different annotators produced comparable analyses.\n",
      "----\n",
      "R_1msf0KMkf86xvU7 Establishing a set of error categories that all annotators can understand and apply. This requires several iterations (just like with any annotation guideline). So, it is time consuming and tiring, specially if done only towards the end of the project.\n",
      "----\n",
      "R_1oGS3sNlc9Pzbhu It was time-consuming and prone to mistakes, especially when analysing for accuracy or correctness.\n",
      "----\n",
      "R_3kgFfd7vL38wXiE No previous experience in my area\n",
      "----\n",
      "R_3dS2PTlM6FW2INE There isn't really a standardized set of categories that you could use and build upon. So it felt like reinventing the wheel myself when trying to come up with a set of categories, going through the output.\n",
      "----\n",
      "R_2wmLQttiaGr9OkJ If not performed by human, an error analysis can require to process the generated output, such processing tools must be independent from the generator and be robust enough. Such tools does not exist for all languages.  If processed by human -&gt; usual hassle of time, recruitment and biais \n",
      "----\n",
      "R_10rcJTKXKKERNbF - deciding the sample size\n",
      "- defining the error categories: not too broad, not too fine grained\n",
      "----\n",
      "R_u3vQ66FYA58WEnL Manual error analysis is very time-consuming. In my case, we also used 2 annotators, for measuring inter-annotator agreement. I had to prepare the rubrics, then prepare sample materials for training annotators, then conduct training trials. Only then we could begin the real annotation and analysis.    So, again, it is a process that takes time and resources.  \n",
      "----\n",
      "R_12tjBK7tLWimKGc It's not necessarily obvious what the categories used should be, especially when you have multiple similar/overlapping things going wrong.\n",
      "----\n",
      "R_3rMofNwuc818Ldq - Mainly, it can be tedious, since one needs to look at a lot of outputs.\n",
      "- It can be challenging to define properly the error categories, which is crucial to make the analysis both informative (categories should be fine-grained enough) and reliable (categories should be result in a high IAA).\n",
      "----\n",
      "R_12RQqpVGE2qYoq3 I did this during my PhD (i.e., more than 40 years ago). We didn't have then the tools to do a decent job at the needed scale. Also, all the work was done manually.\n",
      "----\n"
     ]
    }
   ],
   "source": [
    "# Challenges:\n",
    "texts = get_texts(consented, 'Q10')\n",
    "write_texts(texts, \"challenges.csv\")\n",
    "\n",
    "for ident, text in texts:\n",
    "    print(ident, text)\n",
    "    print('----')"
   ]
  },
  {
   "cell_type": "code",
   "execution_count": 25,
   "id": "d62e963b",
   "metadata": {},
   "outputs": [
    {
     "name": "stdout",
     "output_type": "stream",
     "text": [
      "No: 13 (56.52%)\n",
      "Yes: 10 (43.48%)\n"
     ]
    }
   ],
   "source": [
    "# Enough resources/reference materials at the time?\n",
    "basic_stats(consented,'Q11')"
   ]
  },
  {
   "cell_type": "code",
   "execution_count": 26,
   "id": "ca9471c3",
   "metadata": {},
   "outputs": [
    {
     "data": {
      "image/png": "[encoded data removed]",
      "text/plain": [
       "<Figure size 1080x216 with 1 Axes>"
      ]
     },
     "metadata": {
      "needs_background": "light"
     },
     "output_type": "display_data"
    }
   ],
   "source": [
    "answers = ['Strongly disagree', 'Somewhat disagree', 'Neither agree nor disagree', 'Somewhat agree', 'Strongly agree']\n",
    "records = []\n",
    "for question, counts in underscored(16,9,consented).items():\n",
    "    for answer in answers:\n",
    "        percentage = 0\n",
    "        if answer in counts:\n",
    "            percentage = counts[answer]['number'] # NOTE: Changed into number rather than percentage!\n",
    "        record = dict(question=question, answer=answer, percentage=percentage)\n",
    "        records.append(record)\n",
    "\n",
    "df = pd.DataFrame(records)\n",
    "# Pivot to make a square table:\n",
    "df = df.pivot(index='question', columns='answer', values='percentage')\n",
    "# Reorder columns:\n",
    "df = df[['Strongly disagree', 'Somewhat disagree', 'Neither agree nor disagree', 'Somewhat agree', 'Strongly agree']]\n",
    "\n",
    "plt.rcParams[\"figure.figsize\"] = (15,3)\n",
    "ax = sns.heatmap(df,cmap=sns.light_palette(\"seagreen\", as_cmap=True),linewidth=1,cbar=False,annot=True)\n",
    "ax.xaxis.tick_top()\n",
    "plt.xticks(np.arange(5) + 0.5, labels=answers)\n",
    "plt.yticks(np.arange(9) + 0.5, labels=get_questions(16,9))\n",
    "plt.tick_params(top=False,left=False)\n",
    "plt.xlabel('')\n",
    "plt.ylabel('')\n",
    "plt.title(\"I would be more likely to carry out an analysis in a conference/journal paper if…\", y=1.2)\n",
    "plt.tight_layout()\n",
    "plt.savefig(\"Q16.pdf\")"
   ]
  },
  {
   "cell_type": "code",
   "execution_count": 27,
   "id": "3735e7a0",
   "metadata": {},
   "outputs": [
    {
     "name": "stdout",
     "output_type": "stream",
     "text": [
      "R_3EVTcFVWkcADmAn No\n",
      "----\n",
      "R_1Fb4cMbBLCr1Mps no\n",
      "----\n",
      "R_1zRNqaef0umL2QF Trade-off between improving model/approach vs conducting error analysis\n",
      "----\n",
      "R_2Bx0flTszYdxDPA Time is the largest barrier\n",
      "----\n",
      "R_1OxiIuva6OIySjr Yes. It is not popular to conduct error analysis these days, unfortunately. \n",
      "----\n",
      "R_2viGZF9YUjaTxAZ Not really.  I've just never considered running one.\n",
      "----\n",
      "R_3CClKJCQVTV5fKQ My supervisor do not see the relevance of it as we know no paper with such a error analysis and hence they recommend me to not spend much time on it. \n",
      "----\n",
      "R_8AMlQcW7cB0S0lH No\n",
      "----\n",
      "R_1oGS3sNlc9Pzbhu Reproducibility of error analysis or human evaluation in general would be another concern, but there has been some interesting work recently in this area.\n",
      "----\n",
      "R_1Owpizm5kuD60On The importance given to error analyses is very low in the current research paradigm and we optimize for scores from reviewers for novelty not for wrror analysis\n",
      "----\n",
      "R_3dS2PTlM6FW2INE Mostly time and resources, if there is a strict deadline, it is oftentimes quicker to just do a very straightforward quantitative analysis.\n",
      "----\n",
      "R_2wmLQttiaGr9OkJ lack of tools and resources for all languages\n",
      "----\n",
      "R_10rcJTKXKKERNbF I think error analysis should be carried out if possible by experts on the area and not by crowdworkers.\n",
      "----\n",
      "R_u3vQ66FYA58WEnL Time, money, availability of adequate annotators. A taxonomy of errors could be useful, but it cannot cover everything - there is a variety of issues that can be considered errors, including things that are errors only in some situation but not in other.. Also, a too-big of a taxonomy could be inconvenient to use.\n",
      "----\n",
      "R_3rMofNwuc818Ldq - My language level in the target language of the system I present.\n",
      "- How many outputs are publicly available in other systems.\n",
      "----\n",
      "R_12RQqpVGE2qYoq3 nope\n",
      "----\n"
     ]
    }
   ],
   "source": [
    "# Other barriers?\n",
    "texts = get_texts(consented, 'Q17')\n",
    "write_texts(texts, \"other_barriers.csv\")\n",
    "\n",
    "for ident, text in texts:\n",
    "    print(ident, text)\n",
    "    print('----')"
   ]
  },
  {
   "cell_type": "code",
   "execution_count": 28,
   "id": "c67dca45",
   "metadata": {},
   "outputs": [
    {
     "name": "stdout",
     "output_type": "stream",
     "text": [
      "No, I am still missing:: 20 (66.67%)\n",
      "Yes: 10 (33.33%)\n"
     ]
    }
   ],
   "source": [
    "# Enough resources/reference materials currently?\n",
    "basic_stats(consented,'Q20')"
   ]
  },
  {
   "cell_type": "code",
   "execution_count": 29,
   "id": "974643a6",
   "metadata": {},
   "outputs": [
    {
     "name": "stdout",
     "output_type": "stream",
     "text": [
      "R_2uIYMUOPADUs0Gp Standards\n",
      "----\n",
      "R_1Fb4cMbBLCr1Mps the ability to outsource error analysis!\n",
      "----\n",
      "R_9FWWZPFa03RKtDb Better documented taxonomies and procedures\n",
      "----\n",
      "R_2viGZF9YUjaTxAZ Funding.  Whilst an error analysis is important, the way I work would mean that performing an error analysis would take away time from working on the NLG system itself, which could in turn reduce errors made.  Funding could help this.\n",
      "----\n",
      "R_3CClKJCQVTV5fKQ Knowledge on the topic. I don't which resources exist yet. \n",
      "----\n",
      "R_3PUctIwcmDJt5t4 Don't know which tool is missing, but the practice itself seems relatively novel, so I can expect new resources coming in the future.\n",
      "----\n",
      "R_1msf0KMkf86xvU7 Error analysis taxonomy, best practices, guidance, annotation tools.\n",
      "----\n",
      "R_3JhffzVm2xlXoiQ An efficient guideline and platform for setting the standard and replicable error analysis.\n",
      "----\n",
      "R_2at4iBHFbZ9qXF9 taxonomies, examples how to use them, tools\n",
      "----\n",
      "R_3dS2PTlM6FW2INE A good taxonomy of error categories you could typically use.\n",
      "----\n",
      "R_u3vQ66FYA58WEnL I am not aware of widely recognized resources for error analysis  in NLG. \n",
      "----\n",
      "R_2c0i363Fh3IQN3w Funding to do a study involving native speakers (I am not a native English speaker)\n",
      "----\n"
     ]
    }
   ],
   "source": [
    "# What is still missing?\n",
    "texts = get_texts(consented, 'Q20_2_TEXT')\n",
    "write_texts(texts, \"missing.csv\")\n",
    "\n",
    "for ident, text in texts:\n",
    "    print(ident, text)\n",
    "    print('----')"
   ]
  },
  {
   "cell_type": "code",
   "execution_count": 30,
   "id": "714e307d",
   "metadata": {},
   "outputs": [
    {
     "name": "stdout",
     "output_type": "stream",
     "text": [
      "R_2uIYMUOPADUs0Gp Automation\n",
      "----\n",
      "R_3EVTcFVWkcADmAn No\n",
      "----\n",
      "R_1Fb4cMbBLCr1Mps perhaps, but I cannot think of one at the moment\n",
      "----\n",
      "R_1zRNqaef0umL2QF More explicit recognition of value of error analysis in review forms\n",
      "----\n",
      "R_1OxiIuva6OIySjr Having it as a requirement. Or ideally making it more common, as a practice that is considered valuable, and then researchers would be inclined to do it not bc of a requirement.  \n",
      "----\n",
      "R_9FWWZPFa03RKtDb More money for research, and easier to higher short-term staff.\n",
      "----\n",
      "R_2viGZF9YUjaTxAZ No, on balance I think it's something that should be done when presenting a paper or a conference talk.\n",
      "----\n",
      "R_3CClKJCQVTV5fKQ More acceptance of error analysis in the NLP community. \n",
      "----\n",
      "R_8AMlQcW7cB0S0lH Time and resources (to support the activity )\n",
      "----\n",
      "R_1DAuvy72fx3Y9px This is mostly a problem with research culture, when this (error analyses) becomes normal resources will be produced to fulfil the need for resources.\n",
      "----\n",
      "R_1msf0KMkf86xvU7 More money\n",
      "----\n",
      "R_1Owpizm5kuD60On A thorough task specific taxonomy which easily helps immediately attribute errors found in a certain bucket and also helpful since anything not belonging to the buckets is important and worthy to look at \n",
      "----\n",
      "R_2at4iBHFbZ9qXF9 money dedicated for persons doing the analyses, and also money for instructing them clearly in order to get comparable results\n",
      "----\n",
      "R_3dS2PTlM6FW2INE Having more experience with carrying it out would limit the amount of time necessary to set one up.\n",
      "----\n",
      "R_u3vQ66FYA58WEnL The major factor is that researchers must be acutely aware of the importance of error analysis for research, and for industrial/market applications.. \n",
      "----\n",
      "R_2c0i363Fh3IQN3w Certainly, if my paper, concentrating on a very small, yet precise fragment, would have the same probability of acceptance of a paper that uses ML on a broad, yet very unprecise linguistic boundaries.\n",
      "----\n",
      "R_12RQqpVGE2qYoq3 In my case, no, because, as mentioned, given my age (nearly 74), I have other priorities.\n",
      "----\n"
     ]
    }
   ],
   "source": [
    "# Other factors that make it more likely for you to carry out an error analysis?\n",
    "texts = get_texts(consented, 'Q21')\n",
    "write_texts(texts, \"enabling.csv\")\n",
    "\n",
    "for ident, text in texts:\n",
    "    print(ident, text)\n",
    "    print('----')"
   ]
  },
  {
   "cell_type": "markdown",
   "id": "491005ee",
   "metadata": {},
   "source": [
    "# General opinions"
   ]
  },
  {
   "cell_type": "code",
   "execution_count": 31,
   "id": "2838c489",
   "metadata": {},
   "outputs": [
    {
     "data": {
      "image/png": "[encoded data removed]",
      "text/plain": [
       "<Figure size 1080x288 with 1 Axes>"
      ]
     },
     "metadata": {
      "needs_background": "light"
     },
     "output_type": "display_data"
    }
   ],
   "source": [
    "answers = ['Strongly disagree', 'Somewhat disagree', 'Neither agree nor disagree', 'Somewhat agree', 'Strongly agree']\n",
    "records = []\n",
    "for question, counts in underscored(18,9,consented).items():\n",
    "    for answer in answers:\n",
    "        percentage = 0\n",
    "        if answer in counts:\n",
    "            percentage = counts[answer]['number']\n",
    "        record = dict(question=question, answer=answer, percentage=percentage)\n",
    "        records.append(record)\n",
    "\n",
    "df = pd.DataFrame(records)\n",
    "# Pivot to make a square table:\n",
    "df = df.pivot(index='question', columns='answer', values='percentage')\n",
    "# Reorder columns:\n",
    "df = df[['Strongly disagree', 'Somewhat disagree', 'Neither agree nor disagree', 'Somewhat agree', 'Strongly agree']]\n",
    "\n",
    "plt.rcParams[\"figure.figsize\"] = (15,4)\n",
    "ax = sns.heatmap(df,cmap=sns.light_palette(\"seagreen\", as_cmap=True),linewidth=1,cbar=False,annot=True)\n",
    "ax.xaxis.tick_top()\n",
    "plt.xticks(np.arange(5) + 0.5, labels=answers)\n",
    "plt.yticks(np.arange(9) + 0.5, labels=get_questions(18,9))\n",
    "plt.tick_params(top=False,left=False)\n",
    "plt.xlabel('')\n",
    "plt.ylabel('')\n",
    "plt.title(\"...\", y=1.2)\n",
    "plt.tight_layout()\n",
    "plt.savefig(\"Q18.pdf\")"
   ]
  },
  {
   "cell_type": "code",
   "execution_count": 32,
   "id": "53b1b5f3",
   "metadata": {},
   "outputs": [
    {
     "name": "stdout",
     "output_type": "stream",
     "text": [
      "Equally: 14 (48.28%)\n",
      "More: 15 (51.72%)\n"
     ]
    }
   ],
   "source": [
    "# More/less/equally likely to include error analysis in journal\n",
    "basic_stats(consented, 'Q19')"
   ]
  },
  {
   "cell_type": "code",
   "execution_count": 33,
   "id": "1cd2a12a",
   "metadata": {},
   "outputs": [
    {
     "name": "stdout",
     "output_type": "stream",
     "text": [
      "R_3EVTcFVWkcADmAn It's make my NLG system more accurate.\n",
      "----\n",
      "R_1Fb4cMbBLCr1Mps Based on assumption that the conference is NOT ACL or similiar top-tier venue!\n",
      "----\n",
      "R_1zRNqaef0umL2QF More space, less deadline pressure\n",
      "----\n",
      "R_2Bx0flTszYdxDPA The difference would be the depth of the analysis but heading something remains Important in both cases\n",
      "----\n",
      "R_tK6Arub4LFxhMTT The quality of my work should not differ by the venue\n",
      "----\n",
      "R_1OxiIuva6OIySjr I think it should be a norm, similar to reporducibility, at both venues.\n",
      "----\n",
      "R_9FWWZPFa03RKtDb There are more space and higher expectations.\n",
      "----\n",
      "R_2viGZF9YUjaTxAZ Having discovered that error analysis is a thing, if I were in the position of writing a paper or presenting at a conference, I would almost certainly include an error analysis.\n",
      "----\n",
      "R_3CClKJCQVTV5fKQ Higher page limit, more time to publish, more quality and higher demands in journal articles \n",
      "----\n",
      "R_3PUctIwcmDJt5t4 Journal article usually offer a higher page limit.\n",
      "----\n",
      "R_8AMlQcW7cB0S0lH I think for long papers it is essential and I would expect this any ACL endorsed conference.\n",
      "Also I think there is an overeliance on metric based evaluations without any clear understanding of there strengths and weakness(BLEU)  and a general decline to provide any linguistic analysis of outputs. I fear the focus on deep learning approaches has resulted in a decline of computational linguistic skills in postgraduate researchers (with solely an ML training) and nor  are such research evaluation encouraged.  In some cases they don't have the linguistic skills.\n",
      "----\n",
      "R_1DAuvy72fx3Y9px More space and time involved in a journal publication, means it is more likely to have an error analysis.\n",
      "----\n",
      "R_3PmNb56WDtzFl00 Error analyses should be included in both conf and journal papers\n",
      "----\n",
      "R_1msf0KMkf86xvU7 Normally, having more space in a journal article allows to expand on the experiments, including the error analysis. However, since our research are is heavily conference-focused, our main points of reference are conference papers. So, since they are regarded in a higher standard, they should also be subjected to a higher level of scrutiny and quality expectation. So, I do think an error analysis should be included in both.\n",
      "----\n",
      "R_1oGS3sNlc9Pzbhu The deadlines and page limits for conference papers are typically tighter, so I would be slightly less likely to do this a conference paper. \n",
      "----\n",
      "R_cIRoJzsDgiLpSWB Error analysis will contribute to may article definitely because it can increase the what my investigation has done.\n",
      "----\n",
      "R_2at4iBHFbZ9qXF9 Journal articles are more comprehensive, and they should include an error analysis to give a more complete picture of an NLG system.\n",
      "----\n",
      "R_3dS2PTlM6FW2INE Bigger page limit, you are not as much faced with a strict deadline that requires you to think about how to do the most in the least amount of time.\n",
      "----\n",
      "R_2wmLQttiaGr9OkJ depend on size and the study. If the system is for legal/medical purpose or for creativity\n",
      "----\n",
      "R_u3vQ66FYA58WEnL journal reviewers tend to be more demanding on details, including error analysis. Also, journals provide more space (pages) for articles.\n",
      "----\n",
      "R_2c0i363Fh3IQN3w I understand in our field conference paper are as important as journal papers.\n",
      "----\n",
      "R_3rMofNwuc818Ldq I understand that there is generally more space in a journal paper, but on needs to find space in a shorter paper too. \n",
      "----\n",
      "R_12RQqpVGE2qYoq3 Difference of space and time.\n",
      "----\n"
     ]
    }
   ],
   "source": [
    "# Explanation for previous question:\n",
    "texts = get_texts(consented, 'Q27')\n",
    "write_texts(texts, \"explanation_journal_preference.csv\")\n",
    "\n",
    "for ident, text in texts:\n",
    "    print(ident, text)\n",
    "    print('----')"
   ]
  },
  {
   "cell_type": "markdown",
   "id": "97adc381",
   "metadata": {},
   "source": [
    "# Requirements for reports of error analyses"
   ]
  },
  {
   "cell_type": "code",
   "execution_count": 34,
   "id": "5c7698cc",
   "metadata": {},
   "outputs": [
    {
     "name": "stdout",
     "output_type": "stream",
     "text": [
      "R_3EVTcFVWkcADmAn  May be a table that show correlation between different types of errors.\n",
      "----\n",
      "R_1Fb4cMbBLCr1Mps sufficient evidence to evaluate the standard of the human rater(s)\n",
      "----\n",
      "R_1zRNqaef0umL2QF Better to use a sensible characterization of errors that actually occur rather than trying to shoehorn them into an existing taxonomy\n",
      "----\n",
      "R_1OxiIuva6OIySjr This is important. Thanks!\n",
      "----\n",
      "R_2viGZF9YUjaTxAZ I think including the types of errors made is fine, however, I think that a list of the errors would be incredibly useful, as this would allow people reading papers to see commonality amongst NLG systems (for example, do GPT-J, GPT-3 and GPT-NeoX all make the same mistakes?)\n",
      "----\n",
      "R_3CClKJCQVTV5fKQ Annotation schema in which they explain their error categories if adapted from another NLG task, e.g., question answering might require other categories than machine translation.\n",
      "Not only raw numbers, maybe percentages would be better. Also naming which categories were ignored and due to which reasons. \n",
      "----\n",
      "R_8AMlQcW7cB0S0lH statistically driven sampling (stratified where appropriate even)\n",
      "----\n",
      "R_1DAuvy72fx3Y9px If (real) users find the system helps in a (real) task.\n",
      "----\n",
      "R_3PmNb56WDtzFl00 Annnotation process should be described in enough detail that other researchers can replicate the analysis and get similar results\n",
      "----\n",
      "R_1msf0KMkf86xvU7 The annotation guidelines, and the process followed to train the annotators. This can help with adopting a similar methodology for papers on the same task that aim to compare against them.\n",
      "----\n",
      "R_1oGS3sNlc9Pzbhu Types of errors and how that impacts a system. E.g., a system which generates fluent and grammatically correct output but contains factual error is not very useful.\n",
      "----\n",
      "R_3dS2PTlM6FW2INE A description of how the authors created the categories, with some opportunity for the annotators to report their satisfaction with the aplicability of the categories.\n",
      "----\n",
      "R_u3vQ66FYA58WEnL Proper metrics for measuring inter-annotator agreement. This is an issue not only in NLG. There is a variety of metrics and they are not all well-known or properly used. \n",
      "\n",
      "However, I also warn aginst over-formalising error analysis!  \n",
      "----\n",
      "R_2c0i363Fh3IQN3w You are thinking on a very large output. Sometimes you don't have that data. Have you considered the necessary cardinality of your sample to have a trustable agreement coefficient? The characteristics of your raters are also important, if you do this, though, the composition of your annotator group and the quantity of your sample shall vary. All this is quite costly.\n",
      "----\n",
      "R_3rMofNwuc818Ldq Ideally some comparison with errors in concurrent systems if not already available.\n",
      "----\n",
      "R_12RQqpVGE2qYoq3 some of the hypotheses or ideas that came to their mind when coming across the error/mistake\n",
      "----\n"
     ]
    }
   ],
   "source": [
    "texts = get_texts(consented, 'Q23')\n",
    "write_texts(texts, \"reporting_requirements.csv\")\n",
    "\n",
    "for ident, text in texts:\n",
    "    print(ident, text)\n",
    "    print('----')"
   ]
  },
  {
   "cell_type": "markdown",
   "id": "96d43a48",
   "metadata": {},
   "source": [
    "# General comments"
   ]
  },
  {
   "cell_type": "code",
   "execution_count": 35,
   "id": "b1e1be2a",
   "metadata": {},
   "outputs": [
    {
     "name": "stdout",
     "output_type": "stream",
     "text": [
      "R_2uIYMUOPADUs0Gp Thanks \n",
      "----\n",
      "R_3EVTcFVWkcADmAn No\n",
      "----\n",
      "R_1Fb4cMbBLCr1Mps no\n",
      "----\n",
      "R_1zRNqaef0umL2QF Talk to PCs about review forms\n",
      "----\n",
      "R_2viGZF9YUjaTxAZ No.  Thank you for introducing me to the concept of error analysis.  In at least some small way, I will probably take this concept and use it in our work.\n",
      "----\n",
      "R_3CClKJCQVTV5fKQ I didn't know much on error analysis before answering the questionnaire, hence, I couldn't rate the amountzof existing error analysis tools. I would have liked to have a \"I don't know\" field for the Likert scale questions. \n",
      "----\n",
      "R_8AMlQcW7cB0S0lH This is an important study\n",
      "----\n",
      "R_1msf0KMkf86xvU7 Thanks for carrying out this survey. Looking forward to the results and the recommendations.\n",
      "----\n",
      "R_2wmLQttiaGr9OkJ thanks for doing such study\n",
      "----\n",
      "R_10rcJTKXKKERNbF Error analysis should focus on language features, text genre characteristics and  adequacy to the task, not a mere statistical analysis.\n",
      "----\n",
      "R_u3vQ66FYA58WEnL Thank you, it was a quite good survey. \n",
      "----\n",
      "R_2c0i363Fh3IQN3w I think the study of NLG errors should also take into account the structure of the sentence and it is important the study is human based.\n",
      "----\n",
      "R_3rMofNwuc818Ldq Looking forward to the paper on the results of the study!\n",
      "----\n",
      "R_12RQqpVGE2qYoq3 It seems to me that there is a fundamental difference concerning error analysis depending on whether we look at online processing or written discourse. This is sth that I didn't see mentioned at all in this questionaire, which otherwise is quite good.\n",
      "----\n"
     ]
    }
   ],
   "source": [
    "texts = get_texts(consented, 'Q24')\n",
    "write_texts(texts, \"general_comments.csv\")\n",
    "\n",
    "for ident, text in texts:\n",
    "    print(ident, text)\n",
    "    print('----')"
   ]
  },
  {
   "cell_type": "code",
   "execution_count": null,
   "id": "7cb620b7",
   "metadata": {},
   "outputs": [],
   "source": []
  }
 ],
 "metadata": {
  "kernelspec": {
   "display_name": "Python 3",
   "language": "python",
   "name": "python3"
  },
  "language_info": {
   "codemirror_mode": {
    "name": "ipython",
    "version": 3
   },
   "file_extension": ".py",
   "mimetype": "text/x-python",
   "name": "python",
   "nbconvert_exporter": "python",
   "pygments_lexer": "ipython3",
   "version": "3.8.8"
  }
 },
 "nbformat": 4,
 "nbformat_minor": 5
}
