{
 "cells": [
  {
   "cell_type": "code",
   "execution_count": 1,
   "id": "8f8fe095",
   "metadata": {},
   "outputs": [],
   "source": [
    "import pandas as pd\n",
    "from matplotlib import pyplot as plt\n",
    "import seaborn as sns\n",
    "import numpy as np\n",
    "\n",
    "import csv\n",
    "from collections import Counter"
   ]
  },
  {
   "cell_type": "code",
   "execution_count": 2,
   "id": "9c700a5b",
   "metadata": {},
   "outputs": [],
   "source": [
    "def distribution(records, question):\n",
    "    \"Get distribution of answers, for a given question.\"\n",
    "    c = Counter(record[question] for record in records)\n",
    "    total = sum(c.values())\n",
    "    empty = c['']\n",
    "    counts = {key: {\"number\": value, \n",
    "                    \"percentage\": (value/total) * 100, \n",
    "                    \"percentage_answered\": (value/(total-empty)) * 100} \n",
    "                for key, value in c.items()}\n",
    "    try:\n",
    "        del counts['']['percentage_answered']\n",
    "    except:\n",
    "        pass\n",
    "    return counts\n",
    "\n",
    "\n",
    "def get_questions(question, number):\n",
    "    \"Get questions for a range of questions in a grid.\"\n",
    "    texts = []\n",
    "    for i in range(1,number+1):\n",
    "        item = f'Q{question}_{i}'\n",
    "        text = questions[item]\n",
    "        text = text.split('-')[-1].strip()\n",
    "        texts.append(text)\n",
    "    return texts\n",
    "\n",
    "\n",
    "def get_texts(records, question):\n",
    "    \"Get answer texts.\"\n",
    "    return [answer for record in records \n",
    "                   if not (answer := record[question]) == ''] # Look at that cool walrus operator!\n",
    "\n",
    "\n",
    "def basic_stats(records, question):\n",
    "    \"Print basic statistics about the results.\"\n",
    "    counts = distribution(records, question)\n",
    "    for key, results in counts.items():\n",
    "        if not key == '':\n",
    "            print(f\"{key}: {results['number']} ({results['percentage_answered']:.2f}%)\")\n",
    "\n",
    "    \n",
    "def underscored(base, number, records):\n",
    "    \"Get answer distribution for all subquestions.\"\n",
    "    results = dict()\n",
    "    for i in range(1, number+1):\n",
    "        question = f\"Q{base}_{i}\"\n",
    "        results[question] = distribution(records, question)\n",
    "    return results\n",
    "\n",
    "\n",
    "def agreement(counts):\n",
    "    \"Select percentage answered for all answers except the empty string.\"\n",
    "    results = dict()\n",
    "    for answer in ['Strongly disagree', 'Somewhat disagree', 'Neither agree nor disagree', 'Somewhat agree', 'Strongly agree']:\n",
    "        try:\n",
    "            results[answer] = counts[answer]['percentage_answered']\n",
    "        except:\n",
    "            results[answer] = 0\n",
    "    return results\n",
    "\n",
    "\n",
    "def write_texts(texts, filename):\n",
    "    \"Write texts from a list to a file.\"\n",
    "    with open('./texts/' + filename,'w') as f:\n",
    "        writer = csv.writer(f)\n",
    "        writer.writerows(texts)"
   ]
  },
  {
   "cell_type": "code",
   "execution_count": 3,
   "id": "4967c0c0",
   "metadata": {},
   "outputs": [],
   "source": [
    "df = pd.read_excel(\"internal_survey_results.xlsx\")\n",
    "df = df.fillna('')\n",
    "records = df.to_dict(\"records\")"
   ]
  },
  {
   "cell_type": "code",
   "execution_count": 4,
   "id": "3cf69cda",
   "metadata": {},
   "outputs": [],
   "source": [
    "consented = [record for record in records if str(record['Q1 ']).startswith(\"Yes\")]\n",
    "\n",
    "# For subgroup analysis:\n",
    "academia = [record for record in records if str(record['Q2'])=='Academia']\n",
    "industry = [record for record in records if str(record['Q2'])=='Industry']"
   ]
  },
  {
   "cell_type": "code",
   "execution_count": 5,
   "id": "28a9a9ce",
   "metadata": {},
   "outputs": [],
   "source": [
    "# If necessary, here are all questions:\n",
    "questions = records[0]"
   ]
  },
  {
   "cell_type": "code",
   "execution_count": 6,
   "id": "e3539ec5",
   "metadata": {},
   "outputs": [
    {
     "data": {
      "text/plain": [
       "'\\nTODO:\\n- Subgroup analysis: academia vs industry\\n- Heatmap tables\\n'"
      ]
     },
     "execution_count": 6,
     "metadata": {},
     "output_type": "execute_result"
    }
   ],
   "source": [
    "\"\"\"\n",
    "TODO:\n",
    "- Subgroup analysis: academia vs industry\n",
    "- Heatmap tables\n",
    "\"\"\""
   ]
  },
  {
   "cell_type": "markdown",
   "id": "8a52cf87",
   "metadata": {},
   "source": [
    "# Demographics"
   ]
  },
  {
   "cell_type": "code",
   "execution_count": 7,
   "id": "28f465fd",
   "metadata": {},
   "outputs": [
    {
     "name": "stdout",
     "output_type": "stream",
     "text": [
      "Academia: 10 (76.92%)\n",
      "Other: 1 (7.69%)\n",
      "Industry: 2 (15.38%)\n"
     ]
    }
   ],
   "source": [
    "# Where do people come from?\n",
    "basic_stats(consented, \"Q2\")"
   ]
  },
  {
   "cell_type": "code",
   "execution_count": 8,
   "id": "ec484112",
   "metadata": {},
   "outputs": [
    {
     "name": "stdout",
     "output_type": "stream",
     "text": [
      "2-5 years: 7 (53.85%)\n",
      "11 or more years: 2 (15.38%)\n",
      "Less than 2 years: 1 (7.69%)\n",
      "6-10 years: 3 (23.08%)\n"
     ]
    }
   ],
   "source": [
    "# Time spent working in NLG:\n",
    "basic_stats(consented, \"Q3\")"
   ]
  },
  {
   "cell_type": "code",
   "execution_count": 9,
   "id": "2717d63e",
   "metadata": {},
   "outputs": [
    {
     "name": "stdout",
     "output_type": "stream",
     "text": [
      "Yes: 12 (92.31%)\n",
      "No: 1 (7.69%)\n"
     ]
    }
   ],
   "source": [
    "# Read an error analysis:\n",
    "basic_stats(consented, \"Q4\")"
   ]
  },
  {
   "cell_type": "code",
   "execution_count": 10,
   "id": "dbcab7b1",
   "metadata": {},
   "outputs": [
    {
     "name": "stdout",
     "output_type": "stream",
     "text": [
      "Yes: 8 (66.67%)\n",
      "No: 4 (33.33%)\n"
     ]
    }
   ],
   "source": [
    "# Carried out an error analysis:\n",
    "basic_stats(consented, 'Q9')"
   ]
  },
  {
   "cell_type": "code",
   "execution_count": 11,
   "id": "ce605668",
   "metadata": {},
   "outputs": [
    {
     "name": "stdout",
     "output_type": "stream",
     "text": [
      "Once or twice: 3 (75.00%)\n",
      "I'm planning to carry out an error analysis in the future: 1 (25.00%)\n"
     ]
    }
   ],
   "source": [
    "# Considered carrying one out (only people who answered 'no'):\n",
    "basic_stats(consented, 'Q12')"
   ]
  },
  {
   "cell_type": "code",
   "execution_count": 12,
   "id": "44fd61e6",
   "metadata": {},
   "outputs": [
    {
     "name": "stdout",
     "output_type": "stream",
     "text": [
      "Definitely yes: 3 (75.00%)\n",
      "Probably yes: 1 (25.00%)\n"
     ]
    }
   ],
   "source": [
    "# Willing to carry one out (only people who answered 'no'):\n",
    "basic_stats(consented, 'Q14')"
   ]
  },
  {
   "cell_type": "markdown",
   "id": "6d153991",
   "metadata": {},
   "source": [
    "# Usefulness of error analyses"
   ]
  },
  {
   "cell_type": "code",
   "execution_count": 13,
   "id": "a059f991",
   "metadata": {},
   "outputs": [
    {
     "name": "stdout",
     "output_type": "stream",
     "text": [
      "Extremely useful: 2 (16.67%)\n",
      "Moderately useful: 2 (16.67%)\n",
      "Slightly useful: 1 (8.33%)\n",
      "Very useful: 6 (50.00%)\n",
      "Not at all useful: 1 (8.33%)\n"
     ]
    }
   ],
   "source": [
    "# Found useful:\n",
    "basic_stats(consented, 'Q5')"
   ]
  },
  {
   "cell_type": "code",
   "execution_count": 14,
   "id": "d8d5be64",
   "metadata": {},
   "outputs": [
    {
     "name": "stdout",
     "output_type": "stream",
     "text": [
      "Error analyses better explain the capabilities of the systems, which is not always the case with automatic metrics for evaluation as well as human ratings. \n",
      "----\n",
      "It provided me with a better understanding of the type and frequency of errors.  This is much more useful to me in terms of understanding the problem, than a single number metric within a task.\n",
      "----\n",
      "The error analyses provided additional insight into the performance of the NLG systems. Usually, the error analyses would include more details on the accuracy or fidelity of the text generation system. \n",
      "----\n",
      "much better understanding of the kind of errors the systems make\n",
      "----\n",
      "It gives much better insight into the system behavior than overall statistics from the automatic metrics or human evaluation.\n",
      "----\n",
      "Acknowledging patterns of model shortcomings was very helpful in making the differences (strengths and weaknesses) between different models more concrete than simply discussing small differences in automatic metrics.\n",
      "----\n",
      "Allows for a more detailed understanding of a system's failure modes\n",
      "----\n",
      "The analyses gave insights into the distribution of errors, and helped me to think of ways in which the system could be improved. Furthermore, it helped me see the ways in which flawed outputs could cause harm to users or other stakeholders.\n",
      "----\n",
      "They help to quantify the errors within that particular study but are not particularly helpful when comparing the results with other works.\n",
      "----\n"
     ]
    }
   ],
   "source": [
    "# Uses:\n",
    "texts = get_texts(consented, 'Q6')\n",
    "write_texts(texts, \"uses_of_error_analysis.csv\")\n",
    "\n",
    "for text in get_texts(consented, 'Q6'):\n",
    "    print(text)\n",
    "    print('----')"
   ]
  },
  {
   "cell_type": "code",
   "execution_count": 15,
   "id": "78bd68c5",
   "metadata": {},
   "outputs": [
    {
     "name": "stdout",
     "output_type": "stream",
     "text": [
      "It was impossible to find what steps we should follow to do a correct or complete error analysis or how we define it.\n",
      "----\n"
     ]
    }
   ],
   "source": [
    "# Reasons for disappointment:\n",
    "texts = get_texts(consented, 'Q7')\n",
    "write_texts(texts, \"reasons_for_disappointment.csv\")\n",
    "\n",
    "for text in texts:\n",
    "    print(text)\n",
    "    print('----')"
   ]
  },
  {
   "cell_type": "markdown",
   "id": "8f87d387",
   "metadata": {},
   "source": [
    "# Barriers and enabling factors"
   ]
  },
  {
   "cell_type": "code",
   "execution_count": 16,
   "id": "612a8060",
   "metadata": {},
   "outputs": [
    {
     "name": "stdout",
     "output_type": "stream",
     "text": [
      "I did not find carrying it out particularly challenging as the type of evaluation was \"evaluation by annotation\".  Annotators had already found and categorised the errors, I was only looking for patterns within that, so, for example, within \"Number\" errors, looking at which we ordinal or cardinal, etc.\n",
      "----\n",
      "I found the following challenging when using human evaluation for error analysis:\n",
      "- Selecting an appropriate error taxonomy for the evaluation. There is no standardised definitions for the error types, and it was hard to know the appropriate level of technical language acceptable for the annotators.\n",
      "- Achieving a high inter-annotator agreement on a survey.\n",
      "----\n",
      "- establishing the taxonomy of errors\n",
      "- selecting examples for the analysis\n",
      "- finding the time for analyzing enough samples (usually operating given a paper deadline)\n",
      "- handling edge cases (e.g. in fluency errors) or ambiguous cases (error may be of two differnt types)\n",
      "----\n",
      "It was very hard to define or categorise different types of errors.\n",
      "----\n",
      "- it is time consuming\n",
      "- it is hard to come up with meaningful categories (not too detailed & not too general)\n",
      "- it may require some subjective judgement \n",
      "----\n",
      "Categorising the mistakes made by the system, because the errors were often ambiguous between different categories. (Maybe I should have chosen a higher level of abstraction to avoid this, but that would've made the analysis less useful.)\n",
      "----\n",
      "The only complexity is that it adds additional time to prepare the results.\n",
      "----\n"
     ]
    }
   ],
   "source": [
    "# Challenges:\n",
    "texts = get_texts(consented, 'Q10')\n",
    "write_texts(texts, \"challenges.csv\")\n",
    "\n",
    "for text in texts:\n",
    "    print(text)\n",
    "    print('----')"
   ]
  },
  {
   "cell_type": "code",
   "execution_count": 17,
   "id": "d62e963b",
   "metadata": {},
   "outputs": [
    {
     "name": "stdout",
     "output_type": "stream",
     "text": [
      "No: 7 (87.50%)\n",
      "Yes: 1 (12.50%)\n"
     ]
    }
   ],
   "source": [
    "# Enough resources/reference materials at the time?\n",
    "basic_stats(consented,'Q11')"
   ]
  },
  {
   "cell_type": "code",
   "execution_count": 18,
   "id": "ca9471c3",
   "metadata": {},
   "outputs": [
    {
     "data": {
      "image/png": "[encoded data removed]",
      "text/plain": [
       "<Figure size 1080x216 with 1 Axes>"
      ]
     },
     "metadata": {
      "needs_background": "light"
     },
     "output_type": "display_data"
    }
   ],
   "source": [
    "answers = ['Strongly disagree', 'Somewhat disagree', 'Neither agree nor disagree', 'Somewhat agree', 'Strongly agree']\n",
    "records = []\n",
    "for question, counts in underscored(16,9,consented).items():\n",
    "    for answer in answers:\n",
    "        percentage = 0\n",
    "        if answer in counts:\n",
    "            percentage = counts[answer]['percentage_answered']\n",
    "        record = dict(question=question, answer=answer, percentage=percentage)\n",
    "        records.append(record)\n",
    "\n",
    "df = pd.DataFrame(records)\n",
    "# Pivot to make a square table:\n",
    "df = df.pivot(index='question', columns='answer', values='percentage')\n",
    "# Reorder columns:\n",
    "df = df[['Strongly disagree', 'Somewhat disagree', 'Neither agree nor disagree', 'Somewhat agree', 'Strongly agree']]\n",
    "\n",
    "plt.rcParams[\"figure.figsize\"] = (15,3)\n",
    "ax = sns.heatmap(df,cmap=sns.light_palette(\"seagreen\", as_cmap=True),linewidth=1,cbar=False,annot=True)\n",
    "ax.xaxis.tick_top()\n",
    "plt.xticks(np.arange(5) + 0.5, labels=answers)\n",
    "plt.yticks(np.arange(9) + 0.5, labels=get_questions(16,9))\n",
    "plt.tick_params(top=False,left=False)\n",
    "plt.xlabel('')\n",
    "plt.ylabel('')\n",
    "plt.title(\"I would be more likely to carry out an analysis in a conference/journal paper if…\", y=1.2)\n",
    "plt.tight_layout()\n",
    "plt.savefig(\"Q16.pdf\")"
   ]
  },
  {
   "cell_type": "code",
   "execution_count": 19,
   "id": "c67dca45",
   "metadata": {},
   "outputs": [
    {
     "name": "stdout",
     "output_type": "stream",
     "text": [
      "No, I am still missing:: 10 (90.91%)\n",
      "Yes: 1 (9.09%)\n"
     ]
    }
   ],
   "source": [
    "# Enough resources/reference materials currently?\n",
    "basic_stats(consented,'Q20')"
   ]
  },
  {
   "cell_type": "code",
   "execution_count": 20,
   "id": "974643a6",
   "metadata": {},
   "outputs": [
    {
     "name": "stdout",
     "output_type": "stream",
     "text": [
      "An error taxonomy! \n",
      "----\n",
      "Much like evaluation, there are guidelines, but researchers (particularly at the PGR or small group level) are often left to try and just find something that works for them.  This is in part also because there is no one way to do an error analysis, and the problem/domain can have an effect on what you should do as well.\n",
      "----\n",
      "Standardised error definitions and guidelines for conducting error analysis with them.\n",
      "----\n",
      "I'd say \"almost\" -- since not much is needed. Some easy-to-use annotation tools would be helpful, but not crucial -- simple ad-hoc scripts and spreadsheets work well enough for me in most cases\n",
      "----\n",
      "a taxonomy agreed upon by the community which would make the results comparable across papers\n",
      "----\n",
      "Either templates and a thorough how-to guide, or a repository of existing error analyses to use as examples.\n",
      "----\n",
      "Available domain experts in the minority languages I deal with\n",
      "----\n",
      "A taxonomy of common errors.\n",
      "----\n",
      "Standardisation and the expectation from other researchers.\n",
      "----\n"
     ]
    }
   ],
   "source": [
    "# What is still missing?\n",
    "texts = get_texts(consented, 'Q20_2_TEXT')\n",
    "write_texts(texts, \"missing.csv\")\n",
    "\n",
    "for text in texts:\n",
    "    print(text)\n",
    "    print('----')"
   ]
  },
  {
   "cell_type": "code",
   "execution_count": 21,
   "id": "714e307d",
   "metadata": {},
   "outputs": [
    {
     "name": "stdout",
     "output_type": "stream",
     "text": [
      "If it is a standard approach in our field, then people will do it. \n",
      "----\n",
      "The main factors are reviewers not considering them a contribution, and paper page limit.  All the resources in the world will make no difference whilst this is the case.  As an author of our error analysis I tried to include one in a journal submission (10 page ACL format) but had to cut it for space.  We include 2 pages of math that is basically the same as every other 2 pages of math, so we can pretend we are generalizing, but no error analysis.\n",
      "----\n",
      "I would be more likely to carry out an error analysis if I see it as part of the requirements to journals / conferences, and if I see more accepted papers including error analysis.\n",
      "----\n",
      "I'd say the main thing missing is push/incentives to move the field to do them on a larger scale.\n",
      "----\n",
      "Providing an effective training for the NLG community,  by conducting workshops, tutorials, and demos.\n",
      "----\n",
      "If error analyses are incentivized/prioritized from a publishing/reviewer perspective, this would help justify the time/resources required to complete error analyses.\n",
      "----\n",
      "Changing text domains: some types of errors are impracticably time consuming to identify in the domains I work with due to the amount of input data consumed by the system.\n",
      "----\n",
      "As mentioned before. More encouragement from conference/workshop organisers for error analyses to be conducted.\n",
      "----\n",
      "If other researchers cared more about error analysis. If others don't understand the importance of error analysis, the practice of carrying one out will be limited, and readers probably won't care to read about it in papers that have been written.\n",
      "----\n"
     ]
    }
   ],
   "source": [
    "# Other factors that make it more likely for you to carry out an error analysis?\n",
    "texts = get_texts(consented, 'Q21')\n",
    "write_texts(texts, \"enabling.csv\")\n",
    "\n",
    "for text in get_texts(consented, 'Q21'):\n",
    "    print(text)\n",
    "    print('----')"
   ]
  },
  {
   "cell_type": "markdown",
   "id": "491005ee",
   "metadata": {},
   "source": [
    "# General opinions"
   ]
  },
  {
   "cell_type": "code",
   "execution_count": 22,
   "id": "2838c489",
   "metadata": {},
   "outputs": [
    {
     "data": {
      "image/png": "[encoded data removed]",
      "text/plain": [
       "<Figure size 1080x288 with 1 Axes>"
      ]
     },
     "metadata": {
      "needs_background": "light"
     },
     "output_type": "display_data"
    }
   ],
   "source": [
    "answers = ['Strongly disagree', 'Somewhat disagree', 'Neither agree nor disagree', 'Somewhat agree', 'Strongly agree']\n",
    "records = []\n",
    "for question, counts in underscored(18,9,consented).items():\n",
    "    for answer in answers:\n",
    "        percentage = 0\n",
    "        if answer in counts:\n",
    "            percentage = counts[answer]['percentage_answered']\n",
    "        record = dict(question=question, answer=answer, percentage=percentage)\n",
    "        records.append(record)\n",
    "\n",
    "df = pd.DataFrame(records)\n",
    "# Pivot to make a square table:\n",
    "df = df.pivot(index='question', columns='answer', values='percentage')\n",
    "# Reorder columns:\n",
    "df = df[['Strongly disagree', 'Somewhat disagree', 'Neither agree nor disagree', 'Somewhat agree', 'Strongly agree']]\n",
    "\n",
    "plt.rcParams[\"figure.figsize\"] = (15,4)\n",
    "ax = sns.heatmap(df,cmap=sns.light_palette(\"seagreen\", as_cmap=True),linewidth=1,cbar=False,annot=True)\n",
    "ax.xaxis.tick_top()\n",
    "plt.xticks(np.arange(5) + 0.5, labels=answers)\n",
    "plt.yticks(np.arange(9) + 0.5, labels=get_questions(18,9))\n",
    "plt.tick_params(top=False,left=False)\n",
    "plt.xlabel('')\n",
    "plt.ylabel('')\n",
    "plt.title(\"...\", y=1.2)\n",
    "plt.tight_layout()\n",
    "plt.savefig(\"Q18.pdf\")"
   ]
  },
  {
   "cell_type": "code",
   "execution_count": 23,
   "id": "53b1b5f3",
   "metadata": {},
   "outputs": [
    {
     "name": "stdout",
     "output_type": "stream",
     "text": [
      "Equally: 2 (18.18%)\n",
      "More: 9 (81.82%)\n"
     ]
    }
   ],
   "source": [
    "# More/less/equally likely to include error analysis in journal\n",
    "basic_stats(consented, 'Q19')"
   ]
  },
  {
   "cell_type": "markdown",
   "id": "97adc381",
   "metadata": {},
   "source": [
    "# Requirements for reports of error analyses"
   ]
  },
  {
   "cell_type": "code",
   "execution_count": 24,
   "id": "5c7698cc",
   "metadata": {},
   "outputs": [
    {
     "name": "stdout",
     "output_type": "stream",
     "text": [
      "Details about who the annotators are (researchers, professionals, crowd workers) and what if any qualification work they had to indicate they were capable of doing the error annotation.\n",
      "----\n",
      "Samples of the system output with errors, and analysis of the cause for the error.\n",
      "----\n",
      "- examples for the different error types described\n",
      "- details on the methodology (chosen system variants and samples, motivation for the chosen error taxonomy)\n",
      "----\n",
      "several representative outputs of the system (not cherry-picking the best ones, but not random either - rather highlighting the advantages & problems of the system)\n",
      "----\n",
      "Example outputs showing errors/the context in which errors tend to occur.\n",
      "----\n",
      "Relevant background of the annotators, e.g. whether journalists or crowd workers analyzed news text.\n",
      "----\n",
      "Definitions for each type of error, and an appendix with annotation guidelines.\n",
      "\n",
      "If carrying out a comparison between two systems, I would appreciate some statistics to see if an error occurs significantly more in the output of System A than of System B.\n",
      "----\n"
     ]
    }
   ],
   "source": [
    "texts = get_texts(consented, 'Q23')\n",
    "write_texts(texts, \"reporting_requirements.csv\")\n",
    "\n",
    "for text in texts:\n",
    "    print(text)\n",
    "    print('----')"
   ]
  },
  {
   "cell_type": "markdown",
   "id": "96d43a48",
   "metadata": {},
   "source": [
    "# General comments"
   ]
  },
  {
   "cell_type": "code",
   "execution_count": 25,
   "id": "b1e1be2a",
   "metadata": {},
   "outputs": [
    {
     "name": "stdout",
     "output_type": "stream",
     "text": [
      "With the question:  ~\"Would I be more likely to do an error analysis for a journal\", we could maybe have an additional comments field so people can ask why?\n",
      "----\n",
      "AUTHOR\n",
      "----\n"
     ]
    }
   ],
   "source": [
    "texts = get_texts(consented, 'Q24')\n",
    "write_texts(texts, \"general_comments.csv\")\n",
    "\n",
    "for text in texts:\n",
    "    print(text)\n",
    "    print('----')"
   ]
  },
  {
   "cell_type": "code",
   "execution_count": null,
   "id": "7cb620b7",
   "metadata": {},
   "outputs": [],
   "source": []
  }
 ],
 "metadata": {
  "kernelspec": {
   "display_name": "Python 3",
   "language": "python",
   "name": "python3"
  },
  "language_info": {
   "codemirror_mode": {
    "name": "ipython",
    "version": 3
   },
   "file_extension": ".py",
   "mimetype": "text/x-python",
   "name": "python",
   "nbconvert_exporter": "python",
   "pygments_lexer": "ipython3",
   "version": "3.8.8"
  }
 },
 "nbformat": 4,
 "nbformat_minor": 5
}
